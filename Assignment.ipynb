{
 "cells": [
  {
   "cell_type": "code",
   "execution_count": 6,
   "id": "9786e432-f76d-4f04-821c-145baa7336a4",
   "metadata": {},
   "outputs": [],
   "source": [
    "#Q1. Write all the conventions being followed while declaring a variable.\n",
    "\n",
    "#Ans- In Python, there are some conventions that are commonly followed while declaring variables.\n",
    "#These conventions are not mandatory, but following them can make your code more readable and easier\n",
    "#to understand. Some of the conventions are:\n",
    "\n",
    "#Variable names should start with a lowercase letter.\n",
    "#If a variable name contains multiple words, use an underscore to separate them (e.g. my_variable).\n",
    "#Avoid using names that are already used as keywords in Python, such as \"if\", \"else\", \"for\", etc.\n",
    "#Use descriptive names that indicate the purpose of the variable. For example, use \"first_name\" instead of \"fn\".\n",
    "#Constants should be declared using all capital letters with underscores to separate words \n",
    "\n",
    "first_name = \"Lavin\"\n",
    "last_name = \"Choudhary\"\n",
    "age = 20\n",
    "MY_CONSTANT = 3.14\n"
   ]
  },
  {
   "cell_type": "code",
   "execution_count": 5,
   "id": "e43d916b-e1fa-4fe6-969e-3bb031845d38",
   "metadata": {},
   "outputs": [
    {
     "ename": "SyntaxError",
     "evalue": "invalid syntax (421013847.py, line 8)",
     "output_type": "error",
     "traceback": [
      "\u001b[0;36m  Cell \u001b[0;32mIn[5], line 8\u001b[0;36m\u001b[0m\n\u001b[0;31m    >>> if = 10\u001b[0m\n\u001b[0m    ^\u001b[0m\n\u001b[0;31mSyntaxError\u001b[0m\u001b[0;31m:\u001b[0m invalid syntax\n"
     ]
    }
   ],
   "source": [
    "#Q2. What will happen if we declare a restricted keyword as a variable?\n",
    "\n",
    "#Ans- If you try to declare a variable using a restricted keyword in Python,\n",
    "#you will get a syntax error. This is because restricted keywords have a special meaning\n",
    "#in the Python language and are reserved for specific purposes, such as defining control structures\n",
    "#(if, else, while, etc.), defining data types (int, str, float, etc.), and defining functions (def).\n",
    "\n",
    ">>> if = 10\n",
    "  File \"<stdin>\", line 1\n",
    "    if = 10"
   ]
  },
  {
   "cell_type": "code",
   "execution_count": 3,
   "id": "8a2e89e3-dc9d-4451-adfb-9eaed270ed37",
   "metadata": {},
   "outputs": [
    {
     "name": "stdout",
     "output_type": "stream",
     "text": [
      "10\n"
     ]
    }
   ],
   "source": [
    "#Q3. Can we actually declare a string as a variable name?\n",
    "\n",
    "#Ans- Yes, WE cam\n",
    "my_var_name = \"my_variable\"\n",
    "globals()[my_var_name] = 10\n",
    "print(my_variable)  "
   ]
  },
  {
   "cell_type": "code",
   "execution_count": 2,
   "id": "dec4b45a-7aff-4a91-a171-a3bd23e444f7",
   "metadata": {},
   "outputs": [
    {
     "name": "stdout",
     "output_type": "stream",
     "text": [
      "4\n"
     ]
    }
   ],
   "source": [
    "#Q4. Is it possible for us to declare “_” as a variable? If so, then write an example of it.\n",
    "\n",
    "#Ans- Yes it is possible\n",
    "_=4\n",
    "print(_)"
   ]
  },
  {
   "cell_type": "code",
   "execution_count": null,
   "id": "f5f6baa5-43ca-4b6e-8692-9cf774746a42",
   "metadata": {},
   "outputs": [],
   "source": []
  }
 ],
 "metadata": {
  "kernelspec": {
   "display_name": "Python 3 (ipykernel)",
   "language": "python",
   "name": "python3"
  },
  "language_info": {
   "codemirror_mode": {
    "name": "ipython",
    "version": 3
   },
   "file_extension": ".py",
   "mimetype": "text/x-python",
   "name": "python",
   "nbconvert_exporter": "python",
   "pygments_lexer": "ipython3",
   "version": "3.10.8"
  }
 },
 "nbformat": 4,
 "nbformat_minor": 5
}
